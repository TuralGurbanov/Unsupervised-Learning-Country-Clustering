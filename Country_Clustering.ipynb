{
 "cells": [
  {
   "cell_type": "markdown",
   "id": "30bf8461",
   "metadata": {},
   "source": [
    "# Country Clustering"
   ]
  },
  {
   "cell_type": "code",
   "execution_count": 101,
   "id": "52f0a2f5",
   "metadata": {},
   "outputs": [],
   "source": [
    "#UPDATED BY SS\n",
    "\n",
    "%matplotlib inline\n",
    "\n",
    "import numpy as np\n",
    "import pandas as pd\n",
    "import seaborn as sns\n",
    "\n",
    "import matplotlib.pyplot as plt\n",
    "#import matplotlib.cm as cm\n",
    "from matplotlib.colors import ListedColormap\n",
    "\n",
    "\n",
    "import warnings \n",
    "from sklearn.preprocessing import LabelEncoder\n",
    "from sklearn.preprocessing import StandardScaler, normalize\n",
    "from sklearn.preprocessing import MinMaxScaler\n",
    "\n",
    "from sklearn.cluster import KMeans\n",
    "from sklearn.metrics import silhouette_samples, silhouette_score\n",
    "\n",
    "import scipy.cluster.hierarchy as sch\n",
    "from scipy.cluster.hierarchy import linkage, dendrogram\n",
    "from sklearn.cluster import AgglomerativeClustering\n",
    "\n",
    "\n",
    "from sklearn.decomposition import PCA\n",
    "\n",
    "from sklearn.metrics import silhouette_score\n",
    "from sklearn.metrics import confusion_matrix\n",
    "from sklearn.metrics import accuracy_score\n",
    "\n",
    "from sklearn.model_selection import train_test_split\n",
    "from sklearn.linear_model import LogisticRegression"
   ]
  },
  {
   "cell_type": "code",
   "execution_count": 102,
   "id": "c546e7b8",
   "metadata": {},
   "outputs": [],
   "source": [
    "data = pd.read_csv('Country-data.csv')\n",
    "df = data.copy()"
   ]
  },
  {
   "cell_type": "code",
   "execution_count": 103,
   "id": "c7c538b8",
   "metadata": {},
   "outputs": [
    {
     "data": {
      "text/html": [
       "<div>\n",
       "<style scoped>\n",
       "    .dataframe tbody tr th:only-of-type {\n",
       "        vertical-align: middle;\n",
       "    }\n",
       "\n",
       "    .dataframe tbody tr th {\n",
       "        vertical-align: top;\n",
       "    }\n",
       "\n",
       "    .dataframe thead th {\n",
       "        text-align: right;\n",
       "    }\n",
       "</style>\n",
       "<table border=\"1\" class=\"dataframe\">\n",
       "  <thead>\n",
       "    <tr style=\"text-align: right;\">\n",
       "      <th></th>\n",
       "      <th>country</th>\n",
       "      <th>child_mort</th>\n",
       "      <th>exports</th>\n",
       "      <th>health</th>\n",
       "      <th>imports</th>\n",
       "      <th>income</th>\n",
       "      <th>inflation</th>\n",
       "      <th>life_expec</th>\n",
       "      <th>total_fer</th>\n",
       "      <th>gdpp</th>\n",
       "    </tr>\n",
       "  </thead>\n",
       "  <tbody>\n",
       "    <tr>\n",
       "      <th>0</th>\n",
       "      <td>Afghanistan</td>\n",
       "      <td>90.2</td>\n",
       "      <td>10.0</td>\n",
       "      <td>7.58</td>\n",
       "      <td>44.9</td>\n",
       "      <td>1610</td>\n",
       "      <td>9.44</td>\n",
       "      <td>56.2</td>\n",
       "      <td>5.82</td>\n",
       "      <td>553</td>\n",
       "    </tr>\n",
       "    <tr>\n",
       "      <th>1</th>\n",
       "      <td>Albania</td>\n",
       "      <td>16.6</td>\n",
       "      <td>28.0</td>\n",
       "      <td>6.55</td>\n",
       "      <td>48.6</td>\n",
       "      <td>9930</td>\n",
       "      <td>4.49</td>\n",
       "      <td>76.3</td>\n",
       "      <td>1.65</td>\n",
       "      <td>4090</td>\n",
       "    </tr>\n",
       "    <tr>\n",
       "      <th>2</th>\n",
       "      <td>Algeria</td>\n",
       "      <td>27.3</td>\n",
       "      <td>38.4</td>\n",
       "      <td>4.17</td>\n",
       "      <td>31.4</td>\n",
       "      <td>12900</td>\n",
       "      <td>16.10</td>\n",
       "      <td>76.5</td>\n",
       "      <td>2.89</td>\n",
       "      <td>4460</td>\n",
       "    </tr>\n",
       "    <tr>\n",
       "      <th>3</th>\n",
       "      <td>Angola</td>\n",
       "      <td>119.0</td>\n",
       "      <td>62.3</td>\n",
       "      <td>2.85</td>\n",
       "      <td>42.9</td>\n",
       "      <td>5900</td>\n",
       "      <td>22.40</td>\n",
       "      <td>60.1</td>\n",
       "      <td>6.16</td>\n",
       "      <td>3530</td>\n",
       "    </tr>\n",
       "    <tr>\n",
       "      <th>4</th>\n",
       "      <td>Antigua and Barbuda</td>\n",
       "      <td>10.3</td>\n",
       "      <td>45.5</td>\n",
       "      <td>6.03</td>\n",
       "      <td>58.9</td>\n",
       "      <td>19100</td>\n",
       "      <td>1.44</td>\n",
       "      <td>76.8</td>\n",
       "      <td>2.13</td>\n",
       "      <td>12200</td>\n",
       "    </tr>\n",
       "  </tbody>\n",
       "</table>\n",
       "</div>"
      ],
      "text/plain": [
       "               country  child_mort  exports  health  imports  income  \\\n",
       "0          Afghanistan        90.2     10.0    7.58     44.9    1610   \n",
       "1              Albania        16.6     28.0    6.55     48.6    9930   \n",
       "2              Algeria        27.3     38.4    4.17     31.4   12900   \n",
       "3               Angola       119.0     62.3    2.85     42.9    5900   \n",
       "4  Antigua and Barbuda        10.3     45.5    6.03     58.9   19100   \n",
       "\n",
       "   inflation  life_expec  total_fer   gdpp  \n",
       "0       9.44        56.2       5.82    553  \n",
       "1       4.49        76.3       1.65   4090  \n",
       "2      16.10        76.5       2.89   4460  \n",
       "3      22.40        60.1       6.16   3530  \n",
       "4       1.44        76.8       2.13  12200  "
      ]
     },
     "execution_count": 103,
     "metadata": {},
     "output_type": "execute_result"
    }
   ],
   "source": [
    "df.head()"
   ]
  },
  {
   "cell_type": "code",
   "execution_count": 104,
   "id": "ad392c0f",
   "metadata": {},
   "outputs": [
    {
     "name": "stdout",
     "output_type": "stream",
     "text": [
      "<class 'pandas.core.frame.DataFrame'>\n",
      "RangeIndex: 167 entries, 0 to 166\n",
      "Data columns (total 10 columns):\n",
      " #   Column      Non-Null Count  Dtype  \n",
      "---  ------      --------------  -----  \n",
      " 0   country     167 non-null    object \n",
      " 1   child_mort  167 non-null    float64\n",
      " 2   exports     167 non-null    float64\n",
      " 3   health      167 non-null    float64\n",
      " 4   imports     167 non-null    float64\n",
      " 5   income      167 non-null    int64  \n",
      " 6   inflation   167 non-null    float64\n",
      " 7   life_expec  167 non-null    float64\n",
      " 8   total_fer   167 non-null    float64\n",
      " 9   gdpp        167 non-null    int64  \n",
      "dtypes: float64(7), int64(2), object(1)\n",
      "memory usage: 13.2+ KB\n"
     ]
    }
   ],
   "source": [
    "df.info()"
   ]
  },
  {
   "cell_type": "code",
   "execution_count": 105,
   "id": "d692f86c",
   "metadata": {
    "scrolled": true
   },
   "outputs": [
    {
     "data": {
      "image/png": "[encoded data removed]",
      "text/plain": [
       "<Figure size 432x288 with 1 Axes>"
      ]
     },
     "metadata": {
      "needs_background": "light"
     },
     "output_type": "display_data"
    },
    {
     "data": {
      "image/png": "[encoded data removed]",
      "text/plain": [
       "<Figure size 432x288 with 1 Axes>"
      ]
     },
     "metadata": {
      "needs_background": "light"
     },
     "output_type": "display_data"
    },
    {
     "data": {
      "image/png": "[encoded data removed]",
      "text/plain": [
       "<Figure size 432x288 with 1 Axes>"
      ]
     },
     "metadata": {
      "needs_background": "light"
     },
     "output_type": "display_data"
    },
    {
     "data": {
      "image/png": "[encoded data removed]",
      "text/plain": [
       "<Figure size 432x288 with 1 Axes>"
      ]
     },
     "metadata": {
      "needs_background": "light"
     },
     "output_type": "display_data"
    },
    {
     "data": {
      "image/png": "[encoded data removed]",
      "text/plain": [
       "<Figure size 432x288 with 1 Axes>"
      ]
     },
     "metadata": {
      "needs_background": "light"
     },
     "output_type": "display_data"
    },
    {
     "data": {
      "image/png": "[encoded data removed]",
      "text/plain": [
       "<Figure size 432x288 with 1 Axes>"
      ]
     },
     "metadata": {
      "needs_background": "light"
     },
     "output_type": "display_data"
    },
    {
     "data": {
      "image/png": "[encoded data removed]",
      "text/plain": [
       "<Figure size 432x288 with 1 Axes>"
      ]
     },
     "metadata": {
      "needs_background": "light"
     },
     "output_type": "display_data"
    },
    {
     "data": {
      "image/png": "[encoded data removed]",
      "text/plain": [
       "<Figure size 432x288 with 1 Axes>"
      ]
     },
     "metadata": {
      "needs_background": "light"
     },
     "output_type": "display_data"
    }
   ],
   "source": [
    "for col in df.columns[1:-1]:\n",
    "    plt.boxplot(df[col])\n",
    "    plt.show()"
   ]
  },
  {
   "cell_type": "code",
   "execution_count": 106,
   "id": "f667309a",
   "metadata": {},
   "outputs": [],
   "source": [
    "def outlier_treatment(datacolumn):\n",
    "    sorted(datacolumn)\n",
    "    Q1, Q3 = np.percentile(datacolumn, [25, 75])\n",
    "    IQR = Q3 - Q1\n",
    "    lower_range = Q1 - (1.5 * IQR)\n",
    "    upper_range = Q3 + (1.5 * IQR)\n",
    "    return lower_range, upper_range"
   ]
  },
  {
   "cell_type": "code",
   "execution_count": 107,
   "id": "3b721720",
   "metadata": {},
   "outputs": [],
   "source": [
    "X = df.iloc[:,1:-1]"
   ]
  },
  {
   "cell_type": "code",
   "execution_count": 108,
   "id": "c904b3cf",
   "metadata": {},
   "outputs": [],
   "source": [
    "for col in X.columns:\n",
    "    lowerbound, upperbound = outlier_treatment(df[col])\n",
    "    df[col] = np.clip(df[col], a_min = lowerbound, a_max = upperbound)"
   ]
  },
  {
   "cell_type": "code",
   "execution_count": 109,
   "id": "20411fd9",
   "metadata": {
    "scrolled": true
   },
   "outputs": [
    {
     "data": {
      "image/png": "[encoded data removed]",
      "text/plain": [
       "<Figure size 432x288 with 1 Axes>"
      ]
     },
     "metadata": {
      "needs_background": "light"
     },
     "output_type": "display_data"
    },
    {
     "data": {
      "image/png": "[encoded data removed]",
      "text/plain": [
       "<Figure size 432x288 with 1 Axes>"
      ]
     },
     "metadata": {
      "needs_background": "light"
     },
     "output_type": "display_data"
    },
    {
     "data": {
      "image/png": "[encoded data removed]",
      "text/plain": [
       "<Figure size 432x288 with 1 Axes>"
      ]
     },
     "metadata": {
      "needs_background": "light"
     },
     "output_type": "display_data"
    },
    {
     "data": {
      "image/png": "[encoded data removed]",
      "text/plain": [
       "<Figure size 432x288 with 1 Axes>"
      ]
     },
     "metadata": {
      "needs_background": "light"
     },
     "output_type": "display_data"
    },
    {
     "data": {
      "image/png": "[encoded data removed]",
      "text/plain": [
       "<Figure size 432x288 with 1 Axes>"
      ]
     },
     "metadata": {
      "needs_background": "light"
     },
     "output_type": "display_data"
    },
    {
     "data": {
      "image/png": "[encoded data removed]",
      "text/plain": [
       "<Figure size 432x288 with 1 Axes>"
      ]
     },
     "metadata": {
      "needs_background": "light"
     },
     "output_type": "display_data"
    },
    {
     "data": {
      "image/png": "[encoded data removed]",
      "text/plain": [
       "<Figure size 432x288 with 1 Axes>"
      ]
     },
     "metadata": {
      "needs_background": "light"
     },
     "output_type": "display_data"
    },
    {
     "data": {
      "image/png": "[encoded data removed]",
      "text/plain": [
       "<Figure size 432x288 with 1 Axes>"
      ]
     },
     "metadata": {
      "needs_background": "light"
     },
     "output_type": "display_data"
    }
   ],
   "source": [
    "for col in df.columns[1:-1]:\n",
    "    plt.boxplot(df[col])\n",
    "    plt.show()"
   ]
  },
  {
   "cell_type": "code",
   "execution_count": 110,
   "id": "9510565a",
   "metadata": {},
   "outputs": [
    {
     "data": {
      "text/html": [
       "<div>\n",
       "<style scoped>\n",
       "    .dataframe tbody tr th:only-of-type {\n",
       "        vertical-align: middle;\n",
       "    }\n",
       "\n",
       "    .dataframe tbody tr th {\n",
       "        vertical-align: top;\n",
       "    }\n",
       "\n",
       "    .dataframe thead th {\n",
       "        text-align: right;\n",
       "    }\n",
       "</style>\n",
       "<table border=\"1\" class=\"dataframe\">\n",
       "  <thead>\n",
       "    <tr style=\"text-align: right;\">\n",
       "      <th></th>\n",
       "      <th>child_mort</th>\n",
       "      <th>exports</th>\n",
       "      <th>health</th>\n",
       "      <th>imports</th>\n",
       "      <th>income</th>\n",
       "      <th>inflation</th>\n",
       "      <th>life_expec</th>\n",
       "      <th>total_fer</th>\n",
       "    </tr>\n",
       "  </thead>\n",
       "  <tbody>\n",
       "    <tr>\n",
       "      <th>0</th>\n",
       "      <td>90.2</td>\n",
       "      <td>10.0</td>\n",
       "      <td>7.58</td>\n",
       "      <td>44.9</td>\n",
       "      <td>1610</td>\n",
       "      <td>9.44</td>\n",
       "      <td>56.2</td>\n",
       "      <td>5.82</td>\n",
       "    </tr>\n",
       "    <tr>\n",
       "      <th>1</th>\n",
       "      <td>16.6</td>\n",
       "      <td>28.0</td>\n",
       "      <td>6.55</td>\n",
       "      <td>48.6</td>\n",
       "      <td>9930</td>\n",
       "      <td>4.49</td>\n",
       "      <td>76.3</td>\n",
       "      <td>1.65</td>\n",
       "    </tr>\n",
       "    <tr>\n",
       "      <th>2</th>\n",
       "      <td>27.3</td>\n",
       "      <td>38.4</td>\n",
       "      <td>4.17</td>\n",
       "      <td>31.4</td>\n",
       "      <td>12900</td>\n",
       "      <td>16.10</td>\n",
       "      <td>76.5</td>\n",
       "      <td>2.89</td>\n",
       "    </tr>\n",
       "    <tr>\n",
       "      <th>3</th>\n",
       "      <td>119.0</td>\n",
       "      <td>62.3</td>\n",
       "      <td>2.85</td>\n",
       "      <td>42.9</td>\n",
       "      <td>5900</td>\n",
       "      <td>22.40</td>\n",
       "      <td>60.1</td>\n",
       "      <td>6.16</td>\n",
       "    </tr>\n",
       "    <tr>\n",
       "      <th>4</th>\n",
       "      <td>10.3</td>\n",
       "      <td>45.5</td>\n",
       "      <td>6.03</td>\n",
       "      <td>58.9</td>\n",
       "      <td>19100</td>\n",
       "      <td>1.44</td>\n",
       "      <td>76.8</td>\n",
       "      <td>2.13</td>\n",
       "    </tr>\n",
       "    <tr>\n",
       "      <th>...</th>\n",
       "      <td>...</td>\n",
       "      <td>...</td>\n",
       "      <td>...</td>\n",
       "      <td>...</td>\n",
       "      <td>...</td>\n",
       "      <td>...</td>\n",
       "      <td>...</td>\n",
       "      <td>...</td>\n",
       "    </tr>\n",
       "    <tr>\n",
       "      <th>162</th>\n",
       "      <td>29.2</td>\n",
       "      <td>46.6</td>\n",
       "      <td>5.25</td>\n",
       "      <td>52.7</td>\n",
       "      <td>2950</td>\n",
       "      <td>2.62</td>\n",
       "      <td>63.0</td>\n",
       "      <td>3.50</td>\n",
       "    </tr>\n",
       "    <tr>\n",
       "      <th>163</th>\n",
       "      <td>17.1</td>\n",
       "      <td>28.5</td>\n",
       "      <td>4.91</td>\n",
       "      <td>17.6</td>\n",
       "      <td>16500</td>\n",
       "      <td>45.90</td>\n",
       "      <td>75.4</td>\n",
       "      <td>2.47</td>\n",
       "    </tr>\n",
       "    <tr>\n",
       "      <th>164</th>\n",
       "      <td>23.3</td>\n",
       "      <td>72.0</td>\n",
       "      <td>6.84</td>\n",
       "      <td>80.2</td>\n",
       "      <td>4490</td>\n",
       "      <td>12.10</td>\n",
       "      <td>73.1</td>\n",
       "      <td>1.95</td>\n",
       "    </tr>\n",
       "    <tr>\n",
       "      <th>165</th>\n",
       "      <td>56.3</td>\n",
       "      <td>30.0</td>\n",
       "      <td>5.18</td>\n",
       "      <td>34.4</td>\n",
       "      <td>4480</td>\n",
       "      <td>23.60</td>\n",
       "      <td>67.5</td>\n",
       "      <td>4.67</td>\n",
       "    </tr>\n",
       "    <tr>\n",
       "      <th>166</th>\n",
       "      <td>83.1</td>\n",
       "      <td>37.0</td>\n",
       "      <td>5.89</td>\n",
       "      <td>30.9</td>\n",
       "      <td>3280</td>\n",
       "      <td>14.00</td>\n",
       "      <td>52.0</td>\n",
       "      <td>5.40</td>\n",
       "    </tr>\n",
       "  </tbody>\n",
       "</table>\n",
       "<p>167 rows × 8 columns</p>\n",
       "</div>"
      ],
      "text/plain": [
       "     child_mort  exports  health  imports  income  inflation  life_expec  \\\n",
       "0          90.2     10.0    7.58     44.9    1610       9.44        56.2   \n",
       "1          16.6     28.0    6.55     48.6    9930       4.49        76.3   \n",
       "2          27.3     38.4    4.17     31.4   12900      16.10        76.5   \n",
       "3         119.0     62.3    2.85     42.9    5900      22.40        60.1   \n",
       "4          10.3     45.5    6.03     58.9   19100       1.44        76.8   \n",
       "..          ...      ...     ...      ...     ...        ...         ...   \n",
       "162        29.2     46.6    5.25     52.7    2950       2.62        63.0   \n",
       "163        17.1     28.5    4.91     17.6   16500      45.90        75.4   \n",
       "164        23.3     72.0    6.84     80.2    4490      12.10        73.1   \n",
       "165        56.3     30.0    5.18     34.4    4480      23.60        67.5   \n",
       "166        83.1     37.0    5.89     30.9    3280      14.00        52.0   \n",
       "\n",
       "     total_fer  \n",
       "0         5.82  \n",
       "1         1.65  \n",
       "2         2.89  \n",
       "3         6.16  \n",
       "4         2.13  \n",
       "..         ...  \n",
       "162       3.50  \n",
       "163       2.47  \n",
       "164       1.95  \n",
       "165       4.67  \n",
       "166       5.40  \n",
       "\n",
       "[167 rows x 8 columns]"
      ]
     },
     "execution_count": 110,
     "metadata": {},
     "output_type": "execute_result"
    }
   ],
   "source": [
    "X"
   ]
  },
  {
   "cell_type": "code",
   "execution_count": 111,
   "id": "77935c14",
   "metadata": {},
   "outputs": [],
   "source": [
    "X1 = X.iloc[:,[0,2,6,7]]"
   ]
  },
  {
   "cell_type": "code",
   "execution_count": 112,
   "id": "4a7329a7",
   "metadata": {
    "scrolled": true
   },
   "outputs": [
    {
     "data": {
      "text/html": [
       "<div>\n",
       "<style scoped>\n",
       "    .dataframe tbody tr th:only-of-type {\n",
       "        vertical-align: middle;\n",
       "    }\n",
       "\n",
       "    .dataframe tbody tr th {\n",
       "        vertical-align: top;\n",
       "    }\n",
       "\n",
       "    .dataframe thead th {\n",
       "        text-align: right;\n",
       "    }\n",
       "</style>\n",
       "<table border=\"1\" class=\"dataframe\">\n",
       "  <thead>\n",
       "    <tr style=\"text-align: right;\">\n",
       "      <th></th>\n",
       "      <th>child_mort</th>\n",
       "      <th>health</th>\n",
       "      <th>life_expec</th>\n",
       "      <th>total_fer</th>\n",
       "    </tr>\n",
       "  </thead>\n",
       "  <tbody>\n",
       "    <tr>\n",
       "      <th>0</th>\n",
       "      <td>90.2</td>\n",
       "      <td>7.58</td>\n",
       "      <td>56.2</td>\n",
       "      <td>5.82</td>\n",
       "    </tr>\n",
       "    <tr>\n",
       "      <th>1</th>\n",
       "      <td>16.6</td>\n",
       "      <td>6.55</td>\n",
       "      <td>76.3</td>\n",
       "      <td>1.65</td>\n",
       "    </tr>\n",
       "    <tr>\n",
       "      <th>2</th>\n",
       "      <td>27.3</td>\n",
       "      <td>4.17</td>\n",
       "      <td>76.5</td>\n",
       "      <td>2.89</td>\n",
       "    </tr>\n",
       "    <tr>\n",
       "      <th>3</th>\n",
       "      <td>119.0</td>\n",
       "      <td>2.85</td>\n",
       "      <td>60.1</td>\n",
       "      <td>6.16</td>\n",
       "    </tr>\n",
       "    <tr>\n",
       "      <th>4</th>\n",
       "      <td>10.3</td>\n",
       "      <td>6.03</td>\n",
       "      <td>76.8</td>\n",
       "      <td>2.13</td>\n",
       "    </tr>\n",
       "    <tr>\n",
       "      <th>...</th>\n",
       "      <td>...</td>\n",
       "      <td>...</td>\n",
       "      <td>...</td>\n",
       "      <td>...</td>\n",
       "    </tr>\n",
       "    <tr>\n",
       "      <th>162</th>\n",
       "      <td>29.2</td>\n",
       "      <td>5.25</td>\n",
       "      <td>63.0</td>\n",
       "      <td>3.50</td>\n",
       "    </tr>\n",
       "    <tr>\n",
       "      <th>163</th>\n",
       "      <td>17.1</td>\n",
       "      <td>4.91</td>\n",
       "      <td>75.4</td>\n",
       "      <td>2.47</td>\n",
       "    </tr>\n",
       "    <tr>\n",
       "      <th>164</th>\n",
       "      <td>23.3</td>\n",
       "      <td>6.84</td>\n",
       "      <td>73.1</td>\n",
       "      <td>1.95</td>\n",
       "    </tr>\n",
       "    <tr>\n",
       "      <th>165</th>\n",
       "      <td>56.3</td>\n",
       "      <td>5.18</td>\n",
       "      <td>67.5</td>\n",
       "      <td>4.67</td>\n",
       "    </tr>\n",
       "    <tr>\n",
       "      <th>166</th>\n",
       "      <td>83.1</td>\n",
       "      <td>5.89</td>\n",
       "      <td>52.0</td>\n",
       "      <td>5.40</td>\n",
       "    </tr>\n",
       "  </tbody>\n",
       "</table>\n",
       "<p>167 rows × 4 columns</p>\n",
       "</div>"
      ],
      "text/plain": [
       "     child_mort  health  life_expec  total_fer\n",
       "0          90.2    7.58        56.2       5.82\n",
       "1          16.6    6.55        76.3       1.65\n",
       "2          27.3    4.17        76.5       2.89\n",
       "3         119.0    2.85        60.1       6.16\n",
       "4          10.3    6.03        76.8       2.13\n",
       "..          ...     ...         ...        ...\n",
       "162        29.2    5.25        63.0       3.50\n",
       "163        17.1    4.91        75.4       2.47\n",
       "164        23.3    6.84        73.1       1.95\n",
       "165        56.3    5.18        67.5       4.67\n",
       "166        83.1    5.89        52.0       5.40\n",
       "\n",
       "[167 rows x 4 columns]"
      ]
     },
     "execution_count": 112,
     "metadata": {},
     "output_type": "execute_result"
    }
   ],
   "source": [
    "X1"
   ]
  },
  {
   "cell_type": "code",
   "execution_count": 113,
   "id": "0a565866",
   "metadata": {},
   "outputs": [],
   "source": [
    "X2 = X.iloc[:,[1,3,4,5]]"
   ]
  },
  {
   "cell_type": "code",
   "execution_count": 114,
   "id": "69935e95",
   "metadata": {},
   "outputs": [
    {
     "data": {
      "text/html": [
       "<div>\n",
       "<style scoped>\n",
       "    .dataframe tbody tr th:only-of-type {\n",
       "        vertical-align: middle;\n",
       "    }\n",
       "\n",
       "    .dataframe tbody tr th {\n",
       "        vertical-align: top;\n",
       "    }\n",
       "\n",
       "    .dataframe thead th {\n",
       "        text-align: right;\n",
       "    }\n",
       "</style>\n",
       "<table border=\"1\" class=\"dataframe\">\n",
       "  <thead>\n",
       "    <tr style=\"text-align: right;\">\n",
       "      <th></th>\n",
       "      <th>exports</th>\n",
       "      <th>imports</th>\n",
       "      <th>income</th>\n",
       "      <th>inflation</th>\n",
       "    </tr>\n",
       "  </thead>\n",
       "  <tbody>\n",
       "    <tr>\n",
       "      <th>0</th>\n",
       "      <td>10.0</td>\n",
       "      <td>44.9</td>\n",
       "      <td>1610</td>\n",
       "      <td>9.44</td>\n",
       "    </tr>\n",
       "    <tr>\n",
       "      <th>1</th>\n",
       "      <td>28.0</td>\n",
       "      <td>48.6</td>\n",
       "      <td>9930</td>\n",
       "      <td>4.49</td>\n",
       "    </tr>\n",
       "    <tr>\n",
       "      <th>2</th>\n",
       "      <td>38.4</td>\n",
       "      <td>31.4</td>\n",
       "      <td>12900</td>\n",
       "      <td>16.10</td>\n",
       "    </tr>\n",
       "    <tr>\n",
       "      <th>3</th>\n",
       "      <td>62.3</td>\n",
       "      <td>42.9</td>\n",
       "      <td>5900</td>\n",
       "      <td>22.40</td>\n",
       "    </tr>\n",
       "    <tr>\n",
       "      <th>4</th>\n",
       "      <td>45.5</td>\n",
       "      <td>58.9</td>\n",
       "      <td>19100</td>\n",
       "      <td>1.44</td>\n",
       "    </tr>\n",
       "    <tr>\n",
       "      <th>...</th>\n",
       "      <td>...</td>\n",
       "      <td>...</td>\n",
       "      <td>...</td>\n",
       "      <td>...</td>\n",
       "    </tr>\n",
       "    <tr>\n",
       "      <th>162</th>\n",
       "      <td>46.6</td>\n",
       "      <td>52.7</td>\n",
       "      <td>2950</td>\n",
       "      <td>2.62</td>\n",
       "    </tr>\n",
       "    <tr>\n",
       "      <th>163</th>\n",
       "      <td>28.5</td>\n",
       "      <td>17.6</td>\n",
       "      <td>16500</td>\n",
       "      <td>45.90</td>\n",
       "    </tr>\n",
       "    <tr>\n",
       "      <th>164</th>\n",
       "      <td>72.0</td>\n",
       "      <td>80.2</td>\n",
       "      <td>4490</td>\n",
       "      <td>12.10</td>\n",
       "    </tr>\n",
       "    <tr>\n",
       "      <th>165</th>\n",
       "      <td>30.0</td>\n",
       "      <td>34.4</td>\n",
       "      <td>4480</td>\n",
       "      <td>23.60</td>\n",
       "    </tr>\n",
       "    <tr>\n",
       "      <th>166</th>\n",
       "      <td>37.0</td>\n",
       "      <td>30.9</td>\n",
       "      <td>3280</td>\n",
       "      <td>14.00</td>\n",
       "    </tr>\n",
       "  </tbody>\n",
       "</table>\n",
       "<p>167 rows × 4 columns</p>\n",
       "</div>"
      ],
      "text/plain": [
       "     exports  imports  income  inflation\n",
       "0       10.0     44.9    1610       9.44\n",
       "1       28.0     48.6    9930       4.49\n",
       "2       38.4     31.4   12900      16.10\n",
       "3       62.3     42.9    5900      22.40\n",
       "4       45.5     58.9   19100       1.44\n",
       "..       ...      ...     ...        ...\n",
       "162     46.6     52.7    2950       2.62\n",
       "163     28.5     17.6   16500      45.90\n",
       "164     72.0     80.2    4490      12.10\n",
       "165     30.0     34.4    4480      23.60\n",
       "166     37.0     30.9    3280      14.00\n",
       "\n",
       "[167 rows x 4 columns]"
      ]
     },
     "execution_count": 114,
     "metadata": {},
     "output_type": "execute_result"
    }
   ],
   "source": [
    "X2"
   ]
  },
  {
   "cell_type": "code",
   "execution_count": 115,
   "id": "357b501b",
   "metadata": {},
   "outputs": [],
   "source": [
    "X1 = X1.values\n",
    "X2 = X2.values"
   ]
  },
  {
   "cell_type": "code",
   "execution_count": 116,
   "id": "2d1b4522",
   "metadata": {},
   "outputs": [],
   "source": [
    "mmc = MinMaxScaler()\n",
    "X1 = mmc.fit_transform(X1)\n",
    "X2 = mmc.fit_transform(X2)"
   ]
  },
  {
   "cell_type": "code",
   "execution_count": 117,
   "id": "415fdaf0",
   "metadata": {},
   "outputs": [],
   "source": [
    "pca = PCA(n_components = 1)\n",
    "X1 = pca.fit_transform(X1)\n",
    "X2 = pca.fit_transform(X2)\n",
    "explained_variance = pca.explained_variance_ratio_"
   ]
  },
  {
   "cell_type": "code",
   "execution_count": 118,
   "id": "57b5086f",
   "metadata": {
    "scrolled": true
   },
   "outputs": [],
   "source": [
    "X3 = np.concatenate((X1, X2), axis=1)"
   ]
  },
  {
   "cell_type": "code",
   "execution_count": 119,
   "id": "790a68c9",
   "metadata": {},
   "outputs": [
    {
     "data": {
      "text/plain": [
       "array([[ 5.70686230e-01, -1.75585557e-01],\n",
       "       [-2.46844073e-01, -6.44677857e-02],\n",
       "       [-6.76357206e-02, -8.40244727e-02],\n",
       "       [ 6.90145606e-01, -1.07495895e-02],\n",
       "       [-2.13201091e-01,  6.65092517e-02],\n",
       "       [-1.85469182e-01, -1.73424500e-01],\n",
       "       [-1.91701647e-01, -1.15539233e-01],\n",
       "       [-3.21370503e-01, -3.29860160e-02],\n",
       "       [-3.80649869e-01,  1.57583672e-01],\n",
       "       [-8.43637563e-02, -4.92309618e-02],\n",
       "       [-2.20848032e-01,  5.64235504e-03],\n",
       "       [-1.97835666e-01,  2.08285567e-01],\n",
       "       [-4.63836158e-03, -2.19987842e-01],\n",
       "       [-2.55858115e-01,  1.09723662e-03],\n",
       "       [-2.30704395e-01,  7.34924623e-02],\n",
       "       [-3.28417037e-01,  3.09060997e-01],\n",
       "       [-7.14094393e-02,  5.41977275e-02],\n",
       "       [ 5.57097588e-01, -1.43664403e-01],\n",
       "       [-4.81148434e-02,  3.17723684e-02],\n",
       "       [ 5.69448778e-02, -9.03749361e-02],\n",
       "       [-3.53881844e-01, -4.81033984e-02],\n",
       "       [ 1.43157229e-01,  3.16317510e-03],\n",
       "       [-2.24563788e-01, -2.15985267e-01],\n",
       "       [-2.17914783e-01,  2.94061075e-01],\n",
       "       [-2.51538364e-01,  4.74515849e-02],\n",
       "       [ 6.37428479e-01, -1.90142056e-01],\n",
       "       [ 5.76950399e-01, -2.03400061e-01],\n",
       "       [ 6.08142305e-02,  2.13275657e-02],\n",
       "       [ 5.55236943e-01, -1.77223727e-01],\n",
       "       [-3.67126463e-01,  2.22999319e-02],\n",
       "       [-5.52064757e-02, -2.26519118e-02],\n",
       "       [ 7.77925636e-01, -2.19913657e-01],\n",
       "       [ 8.38078279e-01, -8.89926435e-02],\n",
       "       [-2.82369095e-01, -4.96682222e-02],\n",
       "       [-2.26759164e-01, -1.53321304e-01],\n",
       "       [-2.13494204e-01, -1.91520657e-01],\n",
       "       [ 3.89218337e-01, -1.28449149e-01],\n",
       "       [ 7.01630032e-01, -7.95978938e-02],\n",
       "       [ 4.13784702e-01,  9.69122927e-02],\n",
       "       [-3.12130524e-01, -7.80431042e-02],\n",
       "       [ 5.88052843e-01, -4.08973492e-02],\n",
       "       [-2.98145517e-01, -1.66848959e-02],\n",
       "       [-3.34642348e-01,  1.41403104e-01],\n",
       "       [-3.20260283e-01,  1.87927633e-01],\n",
       "       [-3.29984637e-01,  1.43019528e-01],\n",
       "       [-7.95476947e-02, -1.23791029e-01],\n",
       "       [-1.34131348e-01, -1.19927988e-01],\n",
       "       [ 2.03337626e-02, -1.59515905e-01],\n",
       "       [-1.57020200e-01, -8.33764470e-02],\n",
       "       [ 5.46240821e-01,  2.31649515e-01],\n",
       "       [ 3.40460621e-01, -2.61088392e-01],\n",
       "       [-2.64809312e-01,  2.06377624e-01],\n",
       "       [-1.64694684e-03,  6.63231691e-02],\n",
       "       [-3.15956463e-01,  7.14740230e-02],\n",
       "       [-3.34861590e-01, -8.32080030e-03],\n",
       "       [ 2.88872440e-01, -4.97384241e-02],\n",
       "       [ 4.62608051e-01, -1.31750323e-01],\n",
       "       [-2.17440153e-01, -4.81419717e-02],\n",
       "       [-3.87793153e-01,  8.42365356e-02],\n",
       "       [ 3.30028017e-01, -1.12250934e-01],\n",
       "       [-3.70390276e-01, -5.09291902e-02],\n",
       "       [-1.37362043e-01, -6.57918236e-02],\n",
       "       [ 3.06884445e-02, -1.23630376e-01],\n",
       "       [ 5.77523384e-01, -1.25457800e-01],\n",
       "       [ 5.51140703e-01, -1.82574263e-01],\n",
       "       [ 2.63210538e-02,  8.34869667e-02],\n",
       "       [ 8.55972296e-01, -9.43915174e-02],\n",
       "       [-3.07991225e-01,  2.49010411e-01],\n",
       "       [-3.04702742e-01,  1.25978303e-01],\n",
       "       [ 8.36591822e-02, -1.76358731e-01],\n",
       "       [-1.96685853e-02, -1.75049296e-01],\n",
       "       [-2.02800622e-01, -1.45277805e-01],\n",
       "       [ 1.83772700e-01, -7.41111423e-02],\n",
       "       [-2.99516280e-01,  4.56154148e-01],\n",
       "       [-1.90340556e-01, -3.17877696e-04],\n",
       "       [-3.77501802e-01, -1.83674722e-02],\n",
       "       [-1.57584101e-01, -6.56191273e-02],\n",
       "       [-3.96927427e-01, -9.13474759e-02],\n",
       "       [-3.07129915e-02,  5.56507640e-02],\n",
       "       [-3.98324460e-02, -4.25187302e-02],\n",
       "       [ 3.05352509e-01, -1.63035836e-01],\n",
       "       [ 2.12304873e-01, -4.90910846e-02],\n",
       "       [-1.86349380e-01,  2.81977058e-01],\n",
       "       [ 1.73141750e-02,  7.35985360e-02],\n",
       "       [ 2.14769339e-01, -7.02660384e-02],\n",
       "       [-2.72748484e-01,  8.04245365e-02],\n",
       "       [-3.04863351e-01,  2.85576743e-02],\n",
       "       [ 3.88978367e-01,  9.81297968e-02],\n",
       "       [ 4.03680833e-01, -1.23508302e-03],\n",
       "       [-1.41056016e-01,  1.10811985e-01],\n",
       "       [-2.66659273e-01,  1.62692773e-01],\n",
       "       [-3.43513179e-01,  1.04800633e+00],\n",
       "       [-2.66064262e-01,  1.14299724e-02],\n",
       "       [ 3.56896515e-01, -1.33499846e-01],\n",
       "       [ 5.55120035e-01, -1.70577295e-01],\n",
       "       [-1.81733524e-01,  2.37578309e-01],\n",
       "       [-2.07647316e-01,  1.49653805e-01],\n",
       "       [ 7.66835302e-01, -1.57137836e-01],\n",
       "       [-3.59719527e-01,  7.36242370e-01],\n",
       "       [ 4.17954867e-01,  3.94619743e-04],\n",
       "       [-2.27842071e-01,  8.11233087e-02],\n",
       "       [ 4.14364872e-02, -8.75269120e-03],\n",
       "       [-2.69608126e-01,  2.77951237e-02],\n",
       "       [-1.28878599e-02, -3.08866772e-02],\n",
       "       [-2.84228431e-01,  2.82955449e-02],\n",
       "       [-6.48704354e-02, -7.90891535e-02],\n",
       "       [ 6.09156051e-01, -1.03694989e-01],\n",
       "       [ 9.15364278e-02, -3.30990271e-01],\n",
       "       [ 2.28241476e-01,  3.02583764e-02],\n",
       "       [ 2.26794787e-02, -2.07720856e-01],\n",
       "       [-3.52919855e-01,  2.81823496e-01],\n",
       "       [-2.94102309e-01, -2.07189226e-02],\n",
       "       [ 8.33224516e-01, -1.19116085e-01],\n",
       "       [ 6.62757074e-01, -3.06431861e-01],\n",
       "       [-3.20927350e-01,  1.39535566e-01],\n",
       "       [-9.27111263e-02,  1.75444827e-01],\n",
       "       [ 3.30616693e-01, -2.31666784e-01],\n",
       "       [-1.63541196e-01,  1.85873574e-01],\n",
       "       [-8.59441072e-02,  1.76381612e-02],\n",
       "       [-1.44618384e-01, -1.41544253e-01],\n",
       "       [ 4.79463733e-02, -9.76684867e-02],\n",
       "       [-3.08940935e-01,  9.88170892e-03],\n",
       "       [-3.80517728e-01, -1.21846144e-02],\n",
       "       [-2.10846049e-01,  4.70801334e-01],\n",
       "       [-2.34274347e-01, -4.38491531e-02],\n",
       "       [-1.94243604e-01, -9.78023878e-02],\n",
       "       [ 2.56419595e-01, -2.07360634e-01],\n",
       "       [ 8.90171225e-02, -6.35339827e-02],\n",
       "       [-7.96883880e-02,  9.75920686e-02],\n",
       "       [ 3.71556853e-01, -1.30319758e-01],\n",
       "       [-3.16788245e-01, -4.04234876e-02],\n",
       "       [-1.43066914e-01,  3.82288740e-01],\n",
       "       [ 6.56409778e-01, -1.96213213e-01],\n",
       "       [-3.73589054e-01,  1.14357461e+00],\n",
       "       [-3.08443588e-01,  2.50211144e-01],\n",
       "       [-3.46549588e-01,  1.83709239e-01],\n",
       "       [ 1.75966102e-01,  6.40787904e-02],\n",
       "       [ 1.36094410e-01, -1.19909615e-01],\n",
       "       [-3.63713627e-01,  8.79352036e-02],\n",
       "       [-3.89502409e-01, -3.46199172e-02],\n",
       "       [-1.53776888e-01, -1.85088516e-01],\n",
       "       [-1.29328513e-01, -4.22273427e-02],\n",
       "       [ 3.52131658e-01, -2.32766085e-01],\n",
       "       [-8.29297526e-02, -1.43656979e-03],\n",
       "       [-3.24265624e-01,  1.18293095e-01],\n",
       "       [-3.91855771e-01,  2.69391219e-01],\n",
       "       [ 1.13909625e-01, -1.19833314e-01],\n",
       "       [ 4.65021946e-01, -1.93260596e-01],\n",
       "       [-2.41209494e-01,  1.11880268e-01],\n",
       "       [ 3.87368841e-01, -2.71522427e-01],\n",
       "       [ 4.46699913e-01, -3.32812522e-02],\n",
       "       [ 6.67304108e-02, -9.96818731e-02],\n",
       "       [-1.95448855e-01,  3.07279288e-02],\n",
       "       [-2.06545809e-01, -1.26451400e-01],\n",
       "       [ 1.14541927e-01,  8.04074754e-02],\n",
       "       [ 5.62466192e-01, -2.03904741e-01],\n",
       "       [-2.37855011e-01, -1.55209635e-02],\n",
       "       [-2.21559255e-01,  3.39216743e-01],\n",
       "       [-3.13599830e-01,  6.61913109e-04],\n",
       "       [-3.64986807e-01, -3.71970403e-02],\n",
       "       [-2.34459626e-01, -1.09311206e-01],\n",
       "       [-4.44096445e-02, -1.52630778e-01],\n",
       "       [ 1.17804940e-01, -2.08132619e-02],\n",
       "       [-1.35961227e-01, -1.77081546e-01],\n",
       "       [-1.69847288e-01,  1.39331137e-01],\n",
       "       [ 2.73655649e-01, -1.47564402e-01],\n",
       "       [ 5.61007373e-01, -1.29627794e-01]])"
      ]
     },
     "execution_count": 119,
     "metadata": {},
     "output_type": "execute_result"
    }
   ],
   "source": [
    "X3"
   ]
  },
  {
   "cell_type": "code",
   "execution_count": 120,
   "id": "c5fca2e8",
   "metadata": {},
   "outputs": [
    {
     "data": {
      "image/png": "[encoded data removed]",
      "text/plain": [
       "<Figure size 1080x576 with 1 Axes>"
      ]
     },
     "metadata": {
      "needs_background": "light"
     },
     "output_type": "display_data"
    }
   ],
   "source": [
    "fig = plt.figure(figsize = (15,8))\n",
    "plt.scatter(X1,X2,s=100,c='m',label='All countries')\n",
    "plt.title('Human and Country factors after PCA')\n",
    "plt.xlabel('Human Factors')\n",
    "plt.ylabel('Country Factors')\n",
    "plt.legend()\n",
    "plt.show()"
   ]
  },
  {
   "cell_type": "markdown",
   "id": "bb28d8b3",
   "metadata": {},
   "source": [
    "Elbow Method"
   ]
  },
  {
   "cell_type": "code",
   "execution_count": 129,
   "id": "e1e911b9",
   "metadata": {},
   "outputs": [
    {
     "name": "stderr",
     "output_type": "stream",
     "text": [
      "C:\\Users\\Tural\\anaconda3\\lib\\site-packages\\sklearn\\cluster\\_kmeans.py:881: UserWarning: KMeans is known to have a memory leak on Windows with MKL, when there are less chunks than available threads. You can avoid it by setting the environment variable OMP_NUM_THREADS=1.\n",
      "  warnings.warn(\n"
     ]
    },
    {
     "data": {
      "image/png": "[encoded data removed]",
      "text/plain": [
       "<Figure size 1080x576 with 1 Axes>"
      ]
     },
     "metadata": {
      "needs_background": "light"
     },
     "output_type": "display_data"
    }
   ],
   "source": [
    "wcss = []\n",
    "for i in range(1, 11):\n",
    "    kmeans = KMeans(n_clusters = i, init = 'k-means++', random_state = 42)\n",
    "    kmeans.fit(X3)\n",
    "    wcss.append(kmeans.inertia_)\n",
    "fig = plt.figure(figsize = (15,8))  \n",
    "plt.plot(range(1, 11), wcss)\n",
    "plt.title('The Elbow Method')\n",
    "plt.xlabel('Number of clusters')\n",
    "plt.ylabel('WCSS')\n",
    "plt.show()"
   ]
  },
  {
   "cell_type": "code",
   "execution_count": 122,
   "id": "8fac5d27",
   "metadata": {},
   "outputs": [
    {
     "name": "stdout",
     "output_type": "stream",
     "text": [
      "For n_clusters = 2 The average silhouette_score is : 0.7029238069045901\n",
      "For n_clusters = 3 The average silhouette_score is : 0.682562796603809\n",
      "For n_clusters = 4 The average silhouette_score is : 0.6256015812769476\n"
     ]
    }
   ],
   "source": [
    "range_n_clusters = [2, 3, 4]\n",
    "for i in range_n_clusters:\n",
    "    clusterer = KMeans(n_clusters=i, random_state=42)\n",
    "    cluster_labels = clusterer.fit_predict(X)\n",
    "    silhouette_avg = silhouette_score(X, cluster_labels)\n",
    "    print(\"For n_clusters =\", i, \"The average silhouette_score is :\", silhouette_avg)"
   ]
  },
  {
   "cell_type": "markdown",
   "id": "068f1922",
   "metadata": {},
   "source": [
    "# K means"
   ]
  },
  {
   "cell_type": "code",
   "execution_count": 123,
   "id": "8c8ba621",
   "metadata": {},
   "outputs": [],
   "source": [
    "kmeans = KMeans(n_clusters = 3, init = 'k-means++', random_state = 42)\n",
    "y_kmeans = kmeans.fit_predict(X3)"
   ]
  },
  {
   "cell_type": "code",
   "execution_count": 124,
   "id": "e1400b01",
   "metadata": {},
   "outputs": [
    {
     "data": {
      "text/plain": [
       "array([1, 0, 2, 1, 0, 2, 2, 0, 0, 2, 0, 0, 2, 0, 0, 0, 2, 1, 2, 2, 0, 2,\n",
       "       2, 0, 0, 1, 1, 2, 1, 0, 2, 1, 1, 0, 2, 2, 1, 1, 1, 0, 1, 0, 0, 0,\n",
       "       0, 2, 2, 2, 2, 1, 1, 0, 2, 0, 0, 1, 1, 2, 0, 1, 0, 2, 2, 1, 1, 2,\n",
       "       1, 0, 0, 2, 2, 2, 2, 0, 0, 0, 2, 0, 2, 2, 1, 2, 0, 2, 2, 0, 0, 1,\n",
       "       1, 0, 0, 0, 0, 1, 1, 0, 0, 1, 0, 1, 0, 2, 0, 2, 0, 2, 1, 2, 2, 2,\n",
       "       0, 0, 1, 1, 0, 0, 1, 0, 2, 2, 2, 0, 0, 0, 0, 2, 1, 2, 2, 1, 0, 0,\n",
       "       1, 0, 0, 0, 2, 2, 0, 0, 2, 2, 1, 2, 0, 0, 2, 1, 0, 1, 1, 2, 0, 2,\n",
       "       2, 1, 0, 0, 0, 0, 2, 2, 2, 2, 0, 1, 1])"
      ]
     },
     "execution_count": 124,
     "metadata": {},
     "output_type": "execute_result"
    }
   ],
   "source": [
    "y_kmeans"
   ]
  },
  {
   "cell_type": "code",
   "execution_count": 125,
   "id": "3ad7468e",
   "metadata": {},
   "outputs": [
    {
     "data": {
      "text/plain": [
       "array([[-0.28511189,  0.13959538],\n",
       "       [ 0.51737541, -0.12490239],\n",
       "       [-0.03146178, -0.07537048]])"
      ]
     },
     "execution_count": 125,
     "metadata": {},
     "output_type": "execute_result"
    }
   ],
   "source": [
    "kmeans.cluster_centers_"
   ]
  },
  {
   "cell_type": "code",
   "execution_count": 127,
   "id": "4801f270",
   "metadata": {
    "scrolled": false
   },
   "outputs": [
    {
     "data": {
      "image/png": "[encoded data removed]",
      "text/plain": [
       "<Figure size 1080x576 with 1 Axes>"
      ]
     },
     "metadata": {
      "needs_background": "light"
     },
     "output_type": "display_data"
    }
   ],
   "source": [
    "#Lets plot those clusters!\n",
    "fig = plt.figure(figsize = (15,8))\n",
    "plt.scatter(X3[y_kmeans==0,0],X3[y_kmeans==0,1],s=100,c='magenta',label='Underdeveloped')\n",
    "plt.scatter(X3[y_kmeans==1,0],X3[y_kmeans==1,1],s=100,c='blue',label='Developed')\n",
    "plt.scatter(X3[y_kmeans==2,0],X3[y_kmeans==2,1],s=100,c='green',label='Developing')\n",
    "plt.scatter(kmeans.cluster_centers_[:,0],kmeans.cluster_centers_[:,1],s=200,c='red',label='Centroids',marker = \"+\")\n",
    "plt.title('Human and Country factors after PCA - Clusters')\n",
    "plt.xlabel('Human Factors')\n",
    "plt.ylabel('Country Factors')\n",
    "plt.legend()\n",
    "plt.show()"
   ]
  },
  {
   "cell_type": "markdown",
   "id": "894cb247",
   "metadata": {},
   "source": [
    "# Hierarchial"
   ]
  },
  {
   "cell_type": "code",
   "execution_count": 128,
   "id": "376da220",
   "metadata": {
    "scrolled": true
   },
   "outputs": [
    {
     "data": {
      "image/png": "[encoded data removed]",
      "text/plain": [
       "<Figure size 1080x576 with 1 Axes>"
      ]
     },
     "metadata": {
      "needs_background": "light"
     },
     "output_type": "display_data"
    }
   ],
   "source": [
    "# %% dendogram\n",
    "fig = plt.figure(figsize = (15,8))\n",
    "merg = linkage(X3,method=\"ward\")\n",
    "dendrogram(merg,leaf_rotation = 90)\n",
    "plt.xlabel(\"data points\")\n",
    "plt.ylabel(\"euclidean distance\")\n",
    "plt.show()"
   ]
  },
  {
   "cell_type": "code",
   "execution_count": 135,
   "id": "775d5a18",
   "metadata": {},
   "outputs": [
    {
     "data": {
      "text/plain": [
       "<matplotlib.legend.Legend at 0x1e946375520>"
      ]
     },
     "execution_count": 135,
     "metadata": {},
     "output_type": "execute_result"
    },
    {
     "data": {
      "image/png": "[encoded data removed]",
      "text/plain": [
       "<Figure size 1080x576 with 1 Axes>"
      ]
     },
     "metadata": {
      "needs_background": "light"
     },
     "output_type": "display_data"
    }
   ],
   "source": [
    "#HC\n",
    "fig = plt.figure(figsize = (15,8))\n",
    "ac = AgglomerativeClustering(n_clusters=3, affinity='euclidean', linkage='ward')\n",
    "hc_predict = ac.fit_predict(X3)\n",
    "\n",
    "plt.scatter(X3[hc_predict==0,0],X3[hc_predict==0,1],s=100, c='red', label='Underdeveloped')\n",
    "plt.scatter(X3[hc_predict==1,0],X3[hc_predict==1,1],s=100, c='blue', label = 'Developing')\n",
    "plt.scatter(X3[hc_predict==2,0],X3[hc_predict==2,1],s=100, c='green', label = 'Developed')\n",
    "plt.title('Human and Country factors after PCA - Hierarchial')\n",
    "plt.xlabel('Human Factors')\n",
    "plt.ylabel('Country Factors')\n",
    "plt.legend()"
   ]
  }
 ],
 "metadata": {
  "kernelspec": {
   "display_name": "Python 3",
   "language": "python",
   "name": "python3"
  },
  "language_info": {
   "codemirror_mode": {
    "name": "ipython",
    "version": 3
   },
   "file_extension": ".py",
   "mimetype": "text/x-python",
   "name": "python",
   "nbconvert_exporter": "python",
   "pygments_lexer": "ipython3",
   "version": "3.8.8"
  }
 },
 "nbformat": 4,
 "nbformat_minor": 5
}
